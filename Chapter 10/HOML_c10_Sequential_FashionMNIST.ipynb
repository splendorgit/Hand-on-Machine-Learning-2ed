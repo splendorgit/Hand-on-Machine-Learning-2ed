{
 "cells": [
  {
   "cell_type": "code",
   "execution_count": 18,
   "id": "2d037b73",
   "metadata": {},
   "outputs": [],
   "source": [
    "import tensorflow as tf\n",
    "from tensorflow import keras\n",
    "import numpy as np\n",
    "import matplotlib.pyplot as plt\n",
    "%matplotlib inline\n",
    "import pandas as pd"
   ]
  },
  {
   "cell_type": "code",
   "execution_count": 19,
   "id": "7a32bd84",
   "metadata": {},
   "outputs": [],
   "source": [
    "#load data\n",
    "fashion_mnist = tf.keras.datasets.fashion_mnist\n",
    "(X_full, y_full), (X_test, y_test) = fashion_mnist.load_data()"
   ]
  },
  {
   "cell_type": "code",
   "execution_count": 22,
   "id": "0ad3febd",
   "metadata": {},
   "outputs": [],
   "source": [
    "#Create training data and validation data\n",
    "X_valid, X_train = X_full[:5000], X_full[5000:]\n",
    "y_valid, y_train = y_full[:5000], y_full[5000:]\n",
    "X_valid = X_valid/255.0\n",
    "X_train = X_train/255.0"
   ]
  },
  {
   "cell_type": "code",
   "execution_count": 23,
   "id": "c9684669",
   "metadata": {},
   "outputs": [
    {
     "name": "stdout",
     "output_type": "stream",
     "text": [
      "Model: \"sequential_2\"\n",
      "_________________________________________________________________\n",
      "Layer (type)                 Output Shape              Param #   \n",
      "=================================================================\n",
      "flatten_2 (Flatten)          (None, 784)               0         \n",
      "_________________________________________________________________\n",
      "dense_6 (Dense)              (None, 300)               235500    \n",
      "_________________________________________________________________\n",
      "dense_7 (Dense)              (None, 100)               30100     \n",
      "_________________________________________________________________\n",
      "dense_8 (Dense)              (None, 10)                1010      \n",
      "=================================================================\n",
      "Total params: 266,610\n",
      "Trainable params: 266,610\n",
      "Non-trainable params: 0\n",
      "_________________________________________________________________\n"
     ]
    }
   ],
   "source": [
    "from tensorflow.keras import Sequential\n",
    "from tensorflow.keras.layers import Dense\n",
    "from tensorflow.keras.layers import Flatten\n",
    "\n",
    "my_model = Sequential()\n",
    "my_model.add(Flatten(input_shape=[28,28]))\n",
    "my_model.add(Dense(300, activation = \"relu\"))\n",
    "my_model.add(Dense(100, activation =\"relu\"))\n",
    "my_model.add(Dense(10, activation=\"softmax\"))\n",
    "my_model.summary()"
   ]
  },
  {
   "cell_type": "code",
   "execution_count": 26,
   "id": "bc6fd1a5",
   "metadata": {},
   "outputs": [
    {
     "name": "stdout",
     "output_type": "stream",
     "text": [
      "Epoch 1/70\n",
      "1719/1719 [==============================] - 1s 675us/step - loss: 0.1921 - accuracy: 0.9311 - val_loss: 0.3011 - val_accuracy: 0.8920\n",
      "Epoch 2/70\n",
      "1719/1719 [==============================] - 1s 622us/step - loss: 0.1893 - accuracy: 0.9320 - val_loss: 0.2957 - val_accuracy: 0.8972\n",
      "Epoch 3/70\n",
      "1719/1719 [==============================] - 1s 631us/step - loss: 0.1869 - accuracy: 0.9334 - val_loss: 0.2876 - val_accuracy: 0.8954\n",
      "Epoch 4/70\n",
      "1719/1719 [==============================] - 1s 621us/step - loss: 0.1832 - accuracy: 0.9341 - val_loss: 0.2788 - val_accuracy: 0.8982\n",
      "Epoch 5/70\n",
      "1719/1719 [==============================] - 1s 626us/step - loss: 0.1801 - accuracy: 0.9359 - val_loss: 0.3227 - val_accuracy: 0.8906\n",
      "Epoch 6/70\n",
      "1719/1719 [==============================] - 1s 632us/step - loss: 0.1771 - accuracy: 0.9370 - val_loss: 0.2944 - val_accuracy: 0.8920\n",
      "Epoch 7/70\n",
      "1719/1719 [==============================] - 1s 625us/step - loss: 0.1747 - accuracy: 0.9375 - val_loss: 0.2896 - val_accuracy: 0.8968\n",
      "Epoch 8/70\n",
      "1719/1719 [==============================] - 1s 625us/step - loss: 0.1727 - accuracy: 0.9384 - val_loss: 0.3179 - val_accuracy: 0.8880\n",
      "Epoch 9/70\n",
      "1719/1719 [==============================] - 1s 631us/step - loss: 0.1692 - accuracy: 0.9388 - val_loss: 0.2975 - val_accuracy: 0.8982\n",
      "Epoch 10/70\n",
      "1719/1719 [==============================] - 1s 623us/step - loss: 0.1671 - accuracy: 0.9402 - val_loss: 0.3117 - val_accuracy: 0.8892\n",
      "Epoch 11/70\n",
      "1719/1719 [==============================] - 1s 620us/step - loss: 0.1637 - accuracy: 0.9412 - val_loss: 0.2900 - val_accuracy: 0.8984\n",
      "Epoch 12/70\n",
      "1719/1719 [==============================] - 1s 631us/step - loss: 0.1629 - accuracy: 0.9419 - val_loss: 0.3190 - val_accuracy: 0.8876\n",
      "Epoch 13/70\n",
      "1719/1719 [==============================] - 1s 621us/step - loss: 0.1592 - accuracy: 0.9430 - val_loss: 0.2938 - val_accuracy: 0.8964\n",
      "Epoch 14/70\n",
      "1719/1719 [==============================] - 1s 623us/step - loss: 0.1562 - accuracy: 0.9444 - val_loss: 0.3101 - val_accuracy: 0.8894\n",
      "Epoch 15/70\n",
      "1719/1719 [==============================] - 1s 625us/step - loss: 0.1542 - accuracy: 0.9439 - val_loss: 0.2851 - val_accuracy: 0.9000\n",
      "Epoch 16/70\n",
      "1719/1719 [==============================] - 1s 620us/step - loss: 0.1524 - accuracy: 0.9457 - val_loss: 0.2893 - val_accuracy: 0.8992\n",
      "Epoch 17/70\n",
      "1719/1719 [==============================] - 1s 619us/step - loss: 0.1497 - accuracy: 0.9469 - val_loss: 0.3326 - val_accuracy: 0.8862\n",
      "Epoch 18/70\n",
      "1719/1719 [==============================] - 1s 625us/step - loss: 0.1461 - accuracy: 0.9487 - val_loss: 0.3032 - val_accuracy: 0.8970\n",
      "Epoch 19/70\n",
      "1719/1719 [==============================] - 1s 616us/step - loss: 0.1437 - accuracy: 0.9493 - val_loss: 0.3405 - val_accuracy: 0.8812\n",
      "Epoch 20/70\n",
      "1719/1719 [==============================] - 1s 622us/step - loss: 0.1417 - accuracy: 0.9493 - val_loss: 0.2945 - val_accuracy: 0.9018\n",
      "Epoch 21/70\n",
      "1719/1719 [==============================] - 1s 628us/step - loss: 0.1413 - accuracy: 0.9493 - val_loss: 0.2954 - val_accuracy: 0.9002\n",
      "Epoch 22/70\n",
      "1719/1719 [==============================] - 1s 624us/step - loss: 0.1372 - accuracy: 0.9518 - val_loss: 0.3001 - val_accuracy: 0.8976\n",
      "Epoch 23/70\n",
      "1719/1719 [==============================] - 1s 623us/step - loss: 0.1357 - accuracy: 0.9512 - val_loss: 0.3050 - val_accuracy: 0.9000\n",
      "Epoch 24/70\n",
      "1719/1719 [==============================] - 1s 627us/step - loss: 0.1348 - accuracy: 0.9527 - val_loss: 0.3109 - val_accuracy: 0.8942\n",
      "Epoch 25/70\n",
      "1719/1719 [==============================] - 1s 622us/step - loss: 0.1311 - accuracy: 0.9532 - val_loss: 0.3389 - val_accuracy: 0.8850\n",
      "Epoch 26/70\n",
      "1719/1719 [==============================] - 1s 623us/step - loss: 0.1279 - accuracy: 0.9553 - val_loss: 0.3112 - val_accuracy: 0.8960\n",
      "Epoch 27/70\n",
      "1719/1719 [==============================] - 1s 623us/step - loss: 0.1262 - accuracy: 0.9555 - val_loss: 0.3138 - val_accuracy: 0.8958\n",
      "Epoch 28/70\n",
      "1719/1719 [==============================] - 1s 620us/step - loss: 0.1248 - accuracy: 0.9557 - val_loss: 0.3338 - val_accuracy: 0.8874\n",
      "Epoch 29/70\n",
      "1719/1719 [==============================] - 1s 616us/step - loss: 0.1225 - accuracy: 0.9573 - val_loss: 0.3003 - val_accuracy: 0.9006\n",
      "Epoch 30/70\n",
      "1719/1719 [==============================] - 1s 642us/step - loss: 0.1210 - accuracy: 0.9568 - val_loss: 0.3156 - val_accuracy: 0.8926\n",
      "Epoch 31/70\n",
      "1719/1719 [==============================] - 1s 621us/step - loss: 0.1189 - accuracy: 0.9585 - val_loss: 0.3115 - val_accuracy: 0.8976\n",
      "Epoch 32/70\n",
      "1719/1719 [==============================] - 1s 616us/step - loss: 0.1171 - accuracy: 0.9594 - val_loss: 0.3016 - val_accuracy: 0.8982\n",
      "Epoch 33/70\n",
      "1719/1719 [==============================] - 1s 626us/step - loss: 0.1156 - accuracy: 0.9591 - val_loss: 0.3096 - val_accuracy: 0.8970\n",
      "Epoch 34/70\n",
      "1719/1719 [==============================] - 1s 622us/step - loss: 0.1133 - accuracy: 0.9601 - val_loss: 0.3096 - val_accuracy: 0.8974\n",
      "Epoch 35/70\n",
      "1719/1719 [==============================] - 1s 622us/step - loss: 0.1101 - accuracy: 0.9613 - val_loss: 0.3066 - val_accuracy: 0.9010\n",
      "Epoch 36/70\n",
      "1719/1719 [==============================] - 1s 629us/step - loss: 0.1081 - accuracy: 0.9622 - val_loss: 0.3170 - val_accuracy: 0.8994\n",
      "Epoch 37/70\n",
      "1719/1719 [==============================] - 1s 621us/step - loss: 0.1079 - accuracy: 0.9628 - val_loss: 0.3121 - val_accuracy: 0.8998\n",
      "Epoch 38/70\n",
      "1719/1719 [==============================] - 1s 619us/step - loss: 0.1048 - accuracy: 0.9633 - val_loss: 0.3301 - val_accuracy: 0.8924\n",
      "Epoch 39/70\n",
      "1719/1719 [==============================] - 1s 640us/step - loss: 0.1042 - accuracy: 0.9644 - val_loss: 0.3372 - val_accuracy: 0.8982\n",
      "Epoch 40/70\n",
      "1719/1719 [==============================] - 1s 620us/step - loss: 0.1016 - accuracy: 0.9654 - val_loss: 0.3224 - val_accuracy: 0.8978\n",
      "Epoch 41/70\n",
      "1719/1719 [==============================] - 1s 622us/step - loss: 0.1014 - accuracy: 0.9649 - val_loss: 0.3281 - val_accuracy: 0.8942\n",
      "Epoch 42/70\n",
      "1719/1719 [==============================] - 1s 626us/step - loss: 0.0987 - accuracy: 0.9661 - val_loss: 0.3165 - val_accuracy: 0.9004\n",
      "Epoch 43/70\n",
      "1719/1719 [==============================] - 1s 615us/step - loss: 0.0965 - accuracy: 0.9666 - val_loss: 0.3222 - val_accuracy: 0.8970\n",
      "Epoch 44/70\n",
      "1719/1719 [==============================] - 1s 615us/step - loss: 0.0968 - accuracy: 0.9670 - val_loss: 0.3438 - val_accuracy: 0.8906\n",
      "Epoch 45/70\n",
      "1719/1719 [==============================] - 1s 620us/step - loss: 0.0948 - accuracy: 0.9674 - val_loss: 0.3322 - val_accuracy: 0.8992\n",
      "Epoch 46/70\n",
      "1719/1719 [==============================] - 1s 619us/step - loss: 0.0922 - accuracy: 0.9687 - val_loss: 0.3337 - val_accuracy: 0.8970\n",
      "Epoch 47/70\n",
      "1719/1719 [==============================] - 1s 620us/step - loss: 0.0904 - accuracy: 0.9689 - val_loss: 0.3257 - val_accuracy: 0.9012\n",
      "Epoch 48/70\n",
      "1719/1719 [==============================] - 1s 633us/step - loss: 0.0890 - accuracy: 0.9698 - val_loss: 0.3262 - val_accuracy: 0.8970\n",
      "Epoch 49/70\n",
      "1719/1719 [==============================] - 1s 625us/step - loss: 0.0873 - accuracy: 0.9699 - val_loss: 0.3287 - val_accuracy: 0.9008\n",
      "Epoch 50/70\n",
      "1719/1719 [==============================] - 1s 619us/step - loss: 0.0864 - accuracy: 0.9707 - val_loss: 0.3478 - val_accuracy: 0.8948\n",
      "Epoch 51/70\n",
      "1719/1719 [==============================] - 1s 621us/step - loss: 0.0847 - accuracy: 0.9726 - val_loss: 0.3480 - val_accuracy: 0.8956\n",
      "Epoch 52/70\n",
      "1719/1719 [==============================] - 1s 624us/step - loss: 0.0831 - accuracy: 0.9717 - val_loss: 0.3486 - val_accuracy: 0.8982\n",
      "Epoch 53/70\n",
      "1719/1719 [==============================] - 1s 618us/step - loss: 0.0824 - accuracy: 0.9722 - val_loss: 0.3606 - val_accuracy: 0.8900\n",
      "Epoch 54/70\n",
      "1719/1719 [==============================] - 1s 624us/step - loss: 0.0801 - accuracy: 0.9725 - val_loss: 0.3450 - val_accuracy: 0.8970\n",
      "Epoch 55/70\n",
      "1719/1719 [==============================] - 1s 617us/step - loss: 0.0789 - accuracy: 0.9738 - val_loss: 0.3640 - val_accuracy: 0.8962\n",
      "Epoch 56/70\n",
      "1719/1719 [==============================] - 1s 618us/step - loss: 0.0773 - accuracy: 0.9733 - val_loss: 0.3556 - val_accuracy: 0.8992\n"
     ]
    },
    {
     "name": "stdout",
     "output_type": "stream",
     "text": [
      "Epoch 57/70\n",
      "1719/1719 [==============================] - 1s 619us/step - loss: 0.0758 - accuracy: 0.9743 - val_loss: 0.3615 - val_accuracy: 0.8892\n",
      "Epoch 58/70\n",
      "1719/1719 [==============================] - 1s 619us/step - loss: 0.0759 - accuracy: 0.9731 - val_loss: 0.3437 - val_accuracy: 0.8980\n",
      "Epoch 59/70\n",
      "1719/1719 [==============================] - 1s 616us/step - loss: 0.0746 - accuracy: 0.9748 - val_loss: 0.3762 - val_accuracy: 0.8950\n",
      "Epoch 60/70\n",
      "1719/1719 [==============================] - 1s 624us/step - loss: 0.0731 - accuracy: 0.9758 - val_loss: 0.3801 - val_accuracy: 0.8906\n",
      "Epoch 61/70\n",
      "1719/1719 [==============================] - 1s 621us/step - loss: 0.0724 - accuracy: 0.9755 - val_loss: 0.3775 - val_accuracy: 0.8958\n",
      "Epoch 62/70\n",
      "1719/1719 [==============================] - 1s 618us/step - loss: 0.0714 - accuracy: 0.9765 - val_loss: 0.3938 - val_accuracy: 0.8866\n",
      "Epoch 63/70\n",
      "1719/1719 [==============================] - 1s 619us/step - loss: 0.0697 - accuracy: 0.9763 - val_loss: 0.3695 - val_accuracy: 0.8930\n",
      "Epoch 64/70\n",
      "1719/1719 [==============================] - 1s 621us/step - loss: 0.0675 - accuracy: 0.9776 - val_loss: 0.3848 - val_accuracy: 0.8942\n",
      "Epoch 65/70\n",
      "1719/1719 [==============================] - 1s 623us/step - loss: 0.0667 - accuracy: 0.9773 - val_loss: 0.3714 - val_accuracy: 0.8972\n",
      "Epoch 66/70\n",
      "1719/1719 [==============================] - 1s 619us/step - loss: 0.0645 - accuracy: 0.9785 - val_loss: 0.3648 - val_accuracy: 0.8952\n",
      "Epoch 67/70\n",
      "1719/1719 [==============================] - 1s 623us/step - loss: 0.0651 - accuracy: 0.9781 - val_loss: 0.3662 - val_accuracy: 0.8952\n",
      "Epoch 68/70\n",
      "1719/1719 [==============================] - 1s 616us/step - loss: 0.0627 - accuracy: 0.9794 - val_loss: 0.3935 - val_accuracy: 0.8946\n",
      "Epoch 69/70\n",
      "1719/1719 [==============================] - 1s 614us/step - loss: 0.0619 - accuracy: 0.9799 - val_loss: 0.3865 - val_accuracy: 0.8926\n",
      "Epoch 70/70\n",
      "1719/1719 [==============================] - 1s 626us/step - loss: 0.0601 - accuracy: 0.9797 - val_loss: 0.3741 - val_accuracy: 0.8976\n"
     ]
    }
   ],
   "source": [
    "my_model.compile(loss = \"sparse_categorical_crossentropy\", optimizer = \"sgd\", metrics = [\"accuracy\"])\n",
    "\n",
    "history = my_model.fit(X_train, y_train, validation_data = (X_valid, y_valid), epochs = 70)\n"
   ]
  },
  {
   "cell_type": "code",
   "execution_count": 27,
   "id": "39b4e47d",
   "metadata": {},
   "outputs": [
    {
     "data": {
      "image/png": "[encoded data removed]",
      "text/plain": [
       "<Figure size 576x360 with 1 Axes>"
      ]
     },
     "metadata": {
      "needs_background": "light"
     },
     "output_type": "display_data"
    }
   ],
   "source": [
    "pd.DataFrame(history.history).plot(figsize=(8,5))\n",
    "plt.gca().set_ylim(0,1)\n",
    "plt.show()"
   ]
  },
  {
   "cell_type": "code",
   "execution_count": null,
   "id": "9f9b40f8",
   "metadata": {},
   "outputs": [],
   "source": []
  }
 ],
 "metadata": {
  "kernelspec": {
   "display_name": "Python 3",
   "language": "python",
   "name": "python3"
  },
  "language_info": {
   "codemirror_mode": {
    "name": "ipython",
    "version": 3
   },
   "file_extension": ".py",
   "mimetype": "text/x-python",
   "name": "python",
   "nbconvert_exporter": "python",
   "pygments_lexer": "ipython3",
   "version": "3.8.10"
  }
 },
 "nbformat": 4,
 "nbformat_minor": 5
}
